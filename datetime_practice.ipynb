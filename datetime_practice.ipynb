{
 "cells": [
  {
   "cell_type": "code",
   "execution_count": 50,
   "metadata": {},
   "outputs": [],
   "source": [
    "import pandas as pd\n",
    "import numpy as np\n",
    "path='C:\\\\Users\\\\zhangchen20\\\\Desktop\\\\time_test.xlsx'\n",
    "file_practice=pd.read_excel(path)"
   ]
  },
  {
   "cell_type": "code",
   "execution_count": 2,
   "metadata": {},
   "outputs": [
    {
     "data": {
      "text/plain": [
       "Index(['app_ord_dp_overseas_coupon_quantity.product_id',\n",
       "       'app_ord_dp_overseas_coupon_quantity.platform',\n",
       "       'app_ord_dp_overseas_coupon_quantity.city_id',\n",
       "       'app_ord_dp_overseas_coupon_quantity.city_name',\n",
       "       'app_ord_dp_overseas_coupon_quantity.couponsource',\n",
       "       'app_ord_dp_overseas_coupon_quantity.coupontitle',\n",
       "       'app_ord_dp_overseas_coupon_quantity.region',\n",
       "       'app_ord_dp_overseas_coupon_quantity.getuser',\n",
       "       'app_ord_dp_overseas_coupon_quantity.useuser',\n",
       "       'app_ord_dp_overseas_coupon_quantity.getnum',\n",
       "       'app_ord_dp_overseas_coupon_quantity.usenum',\n",
       "       'app_ord_dp_overseas_coupon_quantity.partition_date'],\n",
       "      dtype='object')"
      ]
     },
     "execution_count": 2,
     "metadata": {},
     "output_type": "execute_result"
    }
   ],
   "source": [
    "file_practice.keys()"
   ]
  },
  {
   "cell_type": "code",
   "execution_count": 3,
   "metadata": {},
   "outputs": [],
   "source": [
    "#pd.to_datetime(file_practice['app_ord_dp_overseas_coupon_quantity.partition_date'])\n",
    "def date_split(date):\n",
    "    y,m,d=date.split('-')\n",
    "    return '%s年-%s月'%(y,m)\n",
    "Year_Mon=file_practice['app_ord_dp_overseas_coupon_quantity.partition_date'].map(date_split)\n",
    "file_practice['Year-Mon']=Year_Mon\n",
    "#file_practice.head(2)"
   ]
  },
  {
   "cell_type": "code",
   "execution_count": 51,
   "metadata": {},
   "outputs": [],
   "source": [
    "#先设置datetimeindex， 再重采样\n",
    "file_practice['date']=pd.to_datetime(file_practice['app_ord_dp_overseas_coupon_quantity.partition_date'])\n",
    "\n",
    "#file_practice['date'].resample('y',how='sum') 这个可以跑一下，看下为什么会有\n",
    "file2=file_practice\n",
    "file2=file2.set_index(file2.date).resample('w').sum()\n"
   ]
  },
  {
   "cell_type": "code",
   "execution_count": 55,
   "metadata": {},
   "outputs": [],
   "source": [
    "# 根据ID来分组，然后对每组进行重采样\n",
    "\n",
    "'''\n",
    "用下面这个是没有用的\n",
    "def groupbyID_resemple_byweek(group):\n",
    "    group.resample('w').count()\n",
    "'''\n",
    "file_practice.set_index(file_practice.date,inplace=True) #经过测试，折一行是必须的，只有有了DatetimeIndex才可以用dataframe.resample\n",
    "file_groupbyID_resemple_bywee=file_practice.groupby('app_ord_dp_overseas_coupon_quantity.product_id').resample('w').sum()"
   ]
  }
 ],
 "metadata": {
  "kernelspec": {
   "display_name": "Python 3",
   "language": "python",
   "name": "python3"
  },
  "language_info": {
   "codemirror_mode": {
    "name": "ipython",
    "version": 3
   },
   "file_extension": ".py",
   "mimetype": "text/x-python",
   "name": "python",
   "nbconvert_exporter": "python",
   "pygments_lexer": "ipython3",
   "version": "3.7.0"
  }
 },
 "nbformat": 4,
 "nbformat_minor": 2
}
