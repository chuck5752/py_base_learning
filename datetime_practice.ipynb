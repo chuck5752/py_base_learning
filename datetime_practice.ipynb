{
 "cells": [
  {
   "cell_type": "code",
   "execution_count": 1,
   "metadata": {},
   "outputs": [],
   "source": [
    "import pandas as pd\n",
    "import numpy as np\n",
    "path='C:\\\\Users\\\\zhangchen20\\\\Desktop\\\\time_test.xlsx'\n",
    "file_practice=pd.read_excel(path)"
   ]
  },
  {
   "cell_type": "code",
   "execution_count": 2,
   "metadata": {},
   "outputs": [
    {
     "data": {
      "text/plain": [
       "Index(['app_ord_dp_overseas_coupon_quantity.product_id',\n",
       "       'app_ord_dp_overseas_coupon_quantity.platform',\n",
       "       'app_ord_dp_overseas_coupon_quantity.city_id',\n",
       "       'app_ord_dp_overseas_coupon_quantity.city_name',\n",
       "       'app_ord_dp_overseas_coupon_quantity.couponsource',\n",
       "       'app_ord_dp_overseas_coupon_quantity.coupontitle',\n",
       "       'app_ord_dp_overseas_coupon_quantity.region',\n",
       "       'app_ord_dp_overseas_coupon_quantity.getuser',\n",
       "       'app_ord_dp_overseas_coupon_quantity.useuser',\n",
       "       'app_ord_dp_overseas_coupon_quantity.getnum',\n",
       "       'app_ord_dp_overseas_coupon_quantity.usenum',\n",
       "       'app_ord_dp_overseas_coupon_quantity.partition_date'],\n",
       "      dtype='object')"
      ]
     },
     "execution_count": 2,
     "metadata": {},
     "output_type": "execute_result"
    }
   ],
   "source": [
    "file_practice.keys()"
   ]
  },
  {
   "cell_type": "markdown",
   "metadata": {},
   "source": [
    "### 原来的土方法"
   ]
  },
  {
   "cell_type": "code",
   "execution_count": 3,
   "metadata": {},
   "outputs": [],
   "source": [
    "#pd.to_datetime(file_practice['app_ord_dp_overseas_coupon_quantity.partition_date'])\n",
    "def date_split(date):\n",
    "    y,m,d=date.split('-')\n",
    "    return '%s年-%s月'%(y,m)\n",
    "Year_Mon=file_practice['app_ord_dp_overseas_coupon_quantity.partition_date'].map(date_split)\n",
    "file_practice['Year-Mon']=Year_Mon\n",
    "#file_practice.head(2)"
   ]
  },
  {
   "cell_type": "markdown",
   "metadata": {},
   "source": [
    "### 这个方法比较好，直接 series.str[0:7],切片就行了，如果是要索引的，用.str.get()"
   ]
  },
  {
   "cell_type": "code",
   "execution_count": null,
   "metadata": {},
   "outputs": [],
   "source": [
    "file_practice_2=pd.read_excel(path)\n",
    "\n",
    "# file_practice_2['app_ord_dp_overseas_coupon_quantity.partition_date'].str[0:7]\n",
    "file_practice_2['Year-Mon']=file_practice_2['app_ord_dp_overseas_coupon_quantity.partition_date'].str[0:7]"
   ]
  },
  {
   "cell_type": "markdown",
   "metadata": {},
   "source": [
    "### 先设置datetimeindex， 再重采样"
   ]
  },
  {
   "cell_type": "code",
   "execution_count": 4,
   "metadata": {},
   "outputs": [],
   "source": [
    "file_practice['date']=pd.to_datetime(file_practice['app_ord_dp_overseas_coupon_quantity.partition_date'])\n",
    "\n",
    "#file_practice['date'].resample('y',how='sum') 这个可以跑一下，看下为什么会有,已经过期了\n",
    "file2=file_practice\n",
    "file2=file2.set_index(file2.date).resample('w').sum()\n"
   ]
  },
  {
   "cell_type": "markdown",
   "metadata": {},
   "source": [
    "### 根据ID来分组，然后对每组进行重采样"
   ]
  },
  {
   "cell_type": "code",
   "execution_count": 5,
   "metadata": {},
   "outputs": [],
   "source": [
    "'''\n",
    "用下面这个是没有用的\n",
    "def groupbyID_resemple_byweek(group):\n",
    "    group.resample('w').count()\n",
    "'''\n",
    "file_practice.set_index(file_practice.date,inplace=True) #经过测试，折一行是必须的，只有有了DatetimeIndex才可以用dataframe.resample\n",
    "file_groupbyID_resemple_bywee=file_practice.groupby('app_ord_dp_overseas_coupon_quantity.product_id').resample('w').sum()"
   ]
  },
  {
   "cell_type": "markdown",
   "metadata": {},
   "source": [
    "### 用这个方式，加上 “星期几之后”，再用str.get()就提出周几了"
   ]
  },
  {
   "cell_type": "code",
   "execution_count": 6,
   "metadata": {},
   "outputs": [
    {
     "data": {
      "text/plain": [
       "0    18-08-24-Fri\n",
       "1    18-08-24-Fri\n",
       "2    18-08-24-Fri\n",
       "dtype: object"
      ]
     },
     "execution_count": 6,
     "metadata": {},
     "output_type": "execute_result"
    }
   ],
   "source": [
    "date_ser = pd.Series([dt.strftime('%y-%m-%d-%a') for dt in file_practice['date']])\n",
    "date_ser.head(3)"
   ]
  },
  {
   "cell_type": "markdown",
   "metadata": {},
   "source": [
    "### 当然，用 .index.dayofweek 也可以拉出来周几"
   ]
  },
  {
   "cell_type": "code",
   "execution_count": 27,
   "metadata": {},
   "outputs": [
    {
     "data": {
      "text/plain": [
       "Int64Index([4, 4, 4, 4, 4, 5, 5, 5, 5, 5,\n",
       "            ...\n",
       "            0, 0, 0, 0, 0, 0, 0, 0, 0, 0],\n",
       "           dtype='int64', name='date', length=853)"
      ]
     },
     "execution_count": 27,
     "metadata": {},
     "output_type": "execute_result"
    }
   ],
   "source": [
    "file_practice.index.dayofweek"
   ]
  },
  {
   "cell_type": "code",
   "execution_count": 23,
   "metadata": {},
   "outputs": [
    {
     "data": {
      "text/html": [
       "<div>\n",
       "<style scoped>\n",
       "    .dataframe tbody tr th:only-of-type {\n",
       "        vertical-align: middle;\n",
       "    }\n",
       "\n",
       "    .dataframe tbody tr th {\n",
       "        vertical-align: top;\n",
       "    }\n",
       "\n",
       "    .dataframe thead th {\n",
       "        text-align: right;\n",
       "    }\n",
       "</style>\n",
       "<table border=\"1\" class=\"dataframe\">\n",
       "  <thead>\n",
       "    <tr style=\"text-align: right;\">\n",
       "      <th></th>\n",
       "      <th>app_ord_dp_overseas_coupon_quantity.product_id</th>\n",
       "      <th>app_ord_dp_overseas_coupon_quantity.platform</th>\n",
       "      <th>app_ord_dp_overseas_coupon_quantity.city_id</th>\n",
       "      <th>app_ord_dp_overseas_coupon_quantity.city_name</th>\n",
       "      <th>app_ord_dp_overseas_coupon_quantity.couponsource</th>\n",
       "      <th>app_ord_dp_overseas_coupon_quantity.coupontitle</th>\n",
       "      <th>app_ord_dp_overseas_coupon_quantity.region</th>\n",
       "      <th>app_ord_dp_overseas_coupon_quantity.getuser</th>\n",
       "      <th>app_ord_dp_overseas_coupon_quantity.useuser</th>\n",
       "      <th>app_ord_dp_overseas_coupon_quantity.getnum</th>\n",
       "      <th>app_ord_dp_overseas_coupon_quantity.usenum</th>\n",
       "      <th>app_ord_dp_overseas_coupon_quantity.partition_date</th>\n",
       "      <th>Year-Mon</th>\n",
       "      <th>date</th>\n",
       "    </tr>\n",
       "    <tr>\n",
       "      <th>date</th>\n",
       "      <th></th>\n",
       "      <th></th>\n",
       "      <th></th>\n",
       "      <th></th>\n",
       "      <th></th>\n",
       "      <th></th>\n",
       "      <th></th>\n",
       "      <th></th>\n",
       "      <th></th>\n",
       "      <th></th>\n",
       "      <th></th>\n",
       "      <th></th>\n",
       "      <th></th>\n",
       "      <th></th>\n",
       "    </tr>\n",
       "  </thead>\n",
       "  <tbody>\n",
       "    <tr>\n",
       "      <th>2018-08-24</th>\n",
       "      <td>60021296814</td>\n",
       "      <td>点评</td>\n",
       "      <td>2401,15162,4262,15134,2395,15168,10079,2397,15...</td>\n",
       "      <td>马萨诸塞州,檀香山,密歇根州,美国,华盛顿,纽约,德克萨斯州,纳帕,加利福尼亚州,拉斯维加斯...</td>\n",
       "      <td>图文优惠券</td>\n",
       "      <td>Tommy Hilfiger(立享85折)</td>\n",
       "      <td>欧美</td>\n",
       "      <td>40</td>\n",
       "      <td>0</td>\n",
       "      <td>40</td>\n",
       "      <td>0</td>\n",
       "      <td>2018-08-24</td>\n",
       "      <td>2018年-08月</td>\n",
       "      <td>2018-08-24</td>\n",
       "    </tr>\n",
       "    <tr>\n",
       "      <th>2018-08-24</th>\n",
       "      <td>60021296814</td>\n",
       "      <td>美团</td>\n",
       "      <td>2401,15162,4262,15134,2395,15168,10079,2397,15...</td>\n",
       "      <td>马萨诸塞州,檀香山,密歇根州,美国,华盛顿,纽约,德克萨斯州,纳帕,加利福尼亚州,拉斯维加斯...</td>\n",
       "      <td>图文优惠券</td>\n",
       "      <td>Tommy Hilfiger(立享85折)</td>\n",
       "      <td>欧美</td>\n",
       "      <td>5</td>\n",
       "      <td>0</td>\n",
       "      <td>5</td>\n",
       "      <td>0</td>\n",
       "      <td>2018-08-24</td>\n",
       "      <td>2018年-08月</td>\n",
       "      <td>2018-08-24</td>\n",
       "    </tr>\n",
       "  </tbody>\n",
       "</table>\n",
       "</div>"
      ],
      "text/plain": [
       "            app_ord_dp_overseas_coupon_quantity.product_id  \\\n",
       "date                                                         \n",
       "2018-08-24                                     60021296814   \n",
       "2018-08-24                                     60021296814   \n",
       "\n",
       "           app_ord_dp_overseas_coupon_quantity.platform  \\\n",
       "date                                                      \n",
       "2018-08-24                                           点评   \n",
       "2018-08-24                                           美团   \n",
       "\n",
       "                  app_ord_dp_overseas_coupon_quantity.city_id  \\\n",
       "date                                                            \n",
       "2018-08-24  2401,15162,4262,15134,2395,15168,10079,2397,15...   \n",
       "2018-08-24  2401,15162,4262,15134,2395,15168,10079,2397,15...   \n",
       "\n",
       "                app_ord_dp_overseas_coupon_quantity.city_name  \\\n",
       "date                                                            \n",
       "2018-08-24  马萨诸塞州,檀香山,密歇根州,美国,华盛顿,纽约,德克萨斯州,纳帕,加利福尼亚州,拉斯维加斯...   \n",
       "2018-08-24  马萨诸塞州,檀香山,密歇根州,美国,华盛顿,纽约,德克萨斯州,纳帕,加利福尼亚州,拉斯维加斯...   \n",
       "\n",
       "           app_ord_dp_overseas_coupon_quantity.couponsource  \\\n",
       "date                                                          \n",
       "2018-08-24                                            图文优惠券   \n",
       "2018-08-24                                            图文优惠券   \n",
       "\n",
       "           app_ord_dp_overseas_coupon_quantity.coupontitle  \\\n",
       "date                                                         \n",
       "2018-08-24                           Tommy Hilfiger(立享85折)   \n",
       "2018-08-24                           Tommy Hilfiger(立享85折)   \n",
       "\n",
       "           app_ord_dp_overseas_coupon_quantity.region  \\\n",
       "date                                                    \n",
       "2018-08-24                                         欧美   \n",
       "2018-08-24                                         欧美   \n",
       "\n",
       "            app_ord_dp_overseas_coupon_quantity.getuser  \\\n",
       "date                                                      \n",
       "2018-08-24                                           40   \n",
       "2018-08-24                                            5   \n",
       "\n",
       "            app_ord_dp_overseas_coupon_quantity.useuser  \\\n",
       "date                                                      \n",
       "2018-08-24                                            0   \n",
       "2018-08-24                                            0   \n",
       "\n",
       "            app_ord_dp_overseas_coupon_quantity.getnum  \\\n",
       "date                                                     \n",
       "2018-08-24                                          40   \n",
       "2018-08-24                                           5   \n",
       "\n",
       "            app_ord_dp_overseas_coupon_quantity.usenum  \\\n",
       "date                                                     \n",
       "2018-08-24                                           0   \n",
       "2018-08-24                                           0   \n",
       "\n",
       "           app_ord_dp_overseas_coupon_quantity.partition_date   Year-Mon  \\\n",
       "date                                                                       \n",
       "2018-08-24                                         2018-08-24  2018年-08月   \n",
       "2018-08-24                                         2018-08-24  2018年-08月   \n",
       "\n",
       "                 date  \n",
       "date                   \n",
       "2018-08-24 2018-08-24  \n",
       "2018-08-24 2018-08-24  "
      ]
     },
     "execution_count": 23,
     "metadata": {},
     "output_type": "execute_result"
    }
   ],
   "source": [
    "#选取“某时间段内” 的数据， 通过掩码\n",
    "#如，选取8月之前的数据\n",
    "import datetime\n",
    "aug=datetime.datetime(2018,8,31)\n",
    "fiel_before_aug=file_practice[file_practice.date<aug]\n",
    "fiel_before_aug.head(2)"
   ]
  },
  {
   "cell_type": "code",
   "execution_count": null,
   "metadata": {},
   "outputs": [],
   "source": [
    "# 这个只能对单个datetime对象进行处理\n",
    "import datetime\n",
    "date=datetime.datetime(2018,4,7)\n",
    "date.strftime('%Y-%m-%d-%a')"
   ]
  },
  {
   "cell_type": "markdown",
   "metadata": {},
   "source": [
    "### .str.get_dummies(',')"
   ]
  },
  {
   "cell_type": "code",
   "execution_count": 28,
   "metadata": {},
   "outputs": [
    {
     "data": {
      "text/html": [
       "<div>\n",
       "<style scoped>\n",
       "    .dataframe tbody tr th:only-of-type {\n",
       "        vertical-align: middle;\n",
       "    }\n",
       "\n",
       "    .dataframe tbody tr th {\n",
       "        vertical-align: top;\n",
       "    }\n",
       "\n",
       "    .dataframe thead th {\n",
       "        text-align: right;\n",
       "    }\n",
       "</style>\n",
       "<table border=\"1\" class=\"dataframe\">\n",
       "  <thead>\n",
       "    <tr style=\"text-align: right;\">\n",
       "      <th></th>\n",
       "      <th>10079</th>\n",
       "      <th>10520</th>\n",
       "      <th>15114</th>\n",
       "      <th>15116</th>\n",
       "      <th>15122</th>\n",
       "      <th>15124</th>\n",
       "      <th>15125</th>\n",
       "      <th>15133</th>\n",
       "      <th>15134</th>\n",
       "      <th>15136</th>\n",
       "      <th>...</th>\n",
       "      <th>4195</th>\n",
       "      <th>4200</th>\n",
       "      <th>4257</th>\n",
       "      <th>4258</th>\n",
       "      <th>4259</th>\n",
       "      <th>4262</th>\n",
       "      <th>4271</th>\n",
       "      <th>4284</th>\n",
       "      <th>4286</th>\n",
       "      <th>4420</th>\n",
       "    </tr>\n",
       "  </thead>\n",
       "  <tbody>\n",
       "    <tr>\n",
       "      <th>0</th>\n",
       "      <td>1</td>\n",
       "      <td>0</td>\n",
       "      <td>1</td>\n",
       "      <td>0</td>\n",
       "      <td>0</td>\n",
       "      <td>0</td>\n",
       "      <td>0</td>\n",
       "      <td>0</td>\n",
       "      <td>1</td>\n",
       "      <td>1</td>\n",
       "      <td>...</td>\n",
       "      <td>0</td>\n",
       "      <td>0</td>\n",
       "      <td>0</td>\n",
       "      <td>0</td>\n",
       "      <td>0</td>\n",
       "      <td>1</td>\n",
       "      <td>0</td>\n",
       "      <td>0</td>\n",
       "      <td>0</td>\n",
       "      <td>0</td>\n",
       "    </tr>\n",
       "    <tr>\n",
       "      <th>1</th>\n",
       "      <td>1</td>\n",
       "      <td>0</td>\n",
       "      <td>1</td>\n",
       "      <td>0</td>\n",
       "      <td>0</td>\n",
       "      <td>0</td>\n",
       "      <td>0</td>\n",
       "      <td>0</td>\n",
       "      <td>1</td>\n",
       "      <td>1</td>\n",
       "      <td>...</td>\n",
       "      <td>0</td>\n",
       "      <td>0</td>\n",
       "      <td>0</td>\n",
       "      <td>0</td>\n",
       "      <td>0</td>\n",
       "      <td>1</td>\n",
       "      <td>0</td>\n",
       "      <td>0</td>\n",
       "      <td>0</td>\n",
       "      <td>0</td>\n",
       "    </tr>\n",
       "    <tr>\n",
       "      <th>2</th>\n",
       "      <td>1</td>\n",
       "      <td>0</td>\n",
       "      <td>1</td>\n",
       "      <td>0</td>\n",
       "      <td>1</td>\n",
       "      <td>1</td>\n",
       "      <td>0</td>\n",
       "      <td>1</td>\n",
       "      <td>0</td>\n",
       "      <td>0</td>\n",
       "      <td>...</td>\n",
       "      <td>0</td>\n",
       "      <td>0</td>\n",
       "      <td>1</td>\n",
       "      <td>0</td>\n",
       "      <td>1</td>\n",
       "      <td>0</td>\n",
       "      <td>0</td>\n",
       "      <td>1</td>\n",
       "      <td>1</td>\n",
       "      <td>0</td>\n",
       "    </tr>\n",
       "    <tr>\n",
       "      <th>3</th>\n",
       "      <td>1</td>\n",
       "      <td>0</td>\n",
       "      <td>1</td>\n",
       "      <td>0</td>\n",
       "      <td>1</td>\n",
       "      <td>1</td>\n",
       "      <td>0</td>\n",
       "      <td>1</td>\n",
       "      <td>0</td>\n",
       "      <td>0</td>\n",
       "      <td>...</td>\n",
       "      <td>0</td>\n",
       "      <td>0</td>\n",
       "      <td>1</td>\n",
       "      <td>0</td>\n",
       "      <td>1</td>\n",
       "      <td>0</td>\n",
       "      <td>0</td>\n",
       "      <td>1</td>\n",
       "      <td>1</td>\n",
       "      <td>0</td>\n",
       "    </tr>\n",
       "    <tr>\n",
       "      <th>4</th>\n",
       "      <td>0</td>\n",
       "      <td>0</td>\n",
       "      <td>0</td>\n",
       "      <td>0</td>\n",
       "      <td>0</td>\n",
       "      <td>0</td>\n",
       "      <td>0</td>\n",
       "      <td>0</td>\n",
       "      <td>0</td>\n",
       "      <td>0</td>\n",
       "      <td>...</td>\n",
       "      <td>0</td>\n",
       "      <td>1</td>\n",
       "      <td>0</td>\n",
       "      <td>0</td>\n",
       "      <td>0</td>\n",
       "      <td>0</td>\n",
       "      <td>1</td>\n",
       "      <td>0</td>\n",
       "      <td>1</td>\n",
       "      <td>0</td>\n",
       "    </tr>\n",
       "  </tbody>\n",
       "</table>\n",
       "<p>5 rows × 52 columns</p>\n",
       "</div>"
      ],
      "text/plain": [
       "   10079  10520  15114  15116  15122  15124  15125  15133  15134  15136  ...   \\\n",
       "0      1      0      1      0      0      0      0      0      1      1  ...    \n",
       "1      1      0      1      0      0      0      0      0      1      1  ...    \n",
       "2      1      0      1      0      1      1      0      1      0      0  ...    \n",
       "3      1      0      1      0      1      1      0      1      0      0  ...    \n",
       "4      0      0      0      0      0      0      0      0      0      0  ...    \n",
       "\n",
       "   4195  4200  4257  4258  4259  4262  4271  4284  4286  4420  \n",
       "0     0     0     0     0     0     1     0     0     0     0  \n",
       "1     0     0     0     0     0     1     0     0     0     0  \n",
       "2     0     0     1     0     1     0     0     1     1     0  \n",
       "3     0     0     1     0     1     0     0     1     1     0  \n",
       "4     0     1     0     0     0     0     1     0     1     0  \n",
       "\n",
       "[5 rows x 52 columns]"
      ]
     },
     "execution_count": 28,
     "metadata": {},
     "output_type": "execute_result"
    }
   ],
   "source": [
    "file_practice_2['app_ord_dp_overseas_coupon_quantity.city_id'].str.get_dummies(',').head()"
   ]
  }
 ],
 "metadata": {
  "kernelspec": {
   "display_name": "Python 3",
   "language": "python",
   "name": "python3"
  },
  "language_info": {
   "codemirror_mode": {
    "name": "ipython",
    "version": 3
   },
   "file_extension": ".py",
   "mimetype": "text/x-python",
   "name": "python",
   "nbconvert_exporter": "python",
   "pygments_lexer": "ipython3",
   "version": "3.7.0"
  }
 },
 "nbformat": 4,
 "nbformat_minor": 2
}
