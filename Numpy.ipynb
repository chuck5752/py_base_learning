{
 "cells": [
  {
   "cell_type": "code",
   "execution_count": 2,
   "metadata": {},
   "outputs": [],
   "source": [
    "b='123,2314'\n",
    "b?\n",
    "\n",
    "def split (series):\n",
    "    y,m=series.split(',')\n",
    "    return \"%i年%i月\"%(y,m)\n",
    "split??\n",
    "\n",
    "%run temp.py\n",
    "\n",
    "import numpy as np\n",
    "a=np.random.rand(100,100)#(100*100的)\n",
    "%timeit np.dot(a,a) #计算时间的,多次执行\n",
    "%time np.dot(a.a) #单次执行"
   ]
  },
  {
   "cell_type": "code",
   "execution_count": null,
   "metadata": {},
   "outputs": [],
   "source": []
  },
  {
   "cell_type": "code",
   "execution_count": null,
   "metadata": {},
   "outputs": [],
   "source": []
  },
  {
   "cell_type": "code",
   "execution_count": null,
   "metadata": {},
   "outputs": [],
   "source": []
  },
  {
   "cell_type": "code",
   "execution_count": 16,
   "metadata": {},
   "outputs": [],
   "source": [
    "%magic #全部的魔法函数说明"
   ]
  },
  {
   "cell_type": "code",
   "execution_count": 17,
   "metadata": {},
   "outputs": [],
   "source": [
    "%reset?"
   ]
  },
  {
   "cell_type": "code",
   "execution_count": null,
   "metadata": {},
   "outputs": [],
   "source": [
    "%debug #从最新的异常跟踪的底部，进入交互式调试器"
   ]
  },
  {
   "cell_type": "code",
   "execution_count": null,
   "metadata": {},
   "outputs": [],
   "source": [
    "®®®®%%"
   ]
  },
  {
   "cell_type": "markdown",
   "metadata": {},
   "source": [
    "### 数组的切片 - 视图"
   ]
  },
  {
   "cell_type": "code",
   "execution_count": 12,
   "metadata": {},
   "outputs": [
    {
     "name": "stdout",
     "output_type": "stream",
     "text": [
      "[[1 2 3]\n",
      " [4 5 6]\n",
      " [7 8 9]]\n",
      "[[4 5 6]\n",
      " [4 5 6]\n",
      " [7 8 9]]\n",
      "[[4 5 6]\n",
      " [4 5 6]\n",
      " [7 8 9]]\n"
     ]
    }
   ],
   "source": [
    "array=np.array(range(1,10)).reshape(3,3)\n",
    "print (array)\n",
    "\n",
    "\n",
    "b=array[:1,]\n",
    "b[:]=np.array([4,5,6])#修改切片，array也会跟着变的\n",
    "#b[:]=np.array(['a','b','c']) 这是不行的，数据类型不同\n",
    "print (array)\n",
    "\n",
    "\n",
    "b=np.array([1,2,3]) #这个不会对原始数组产生影响，也就是说，只有对‘切片’修改的时候，才会改变原数组\n",
    "print (array)\n",
    "\n",
    "b_copy=b.copy() #这个时候修改，就没有关系了"
   ]
  },
  {
   "cell_type": "code",
   "execution_count": 20,
   "metadata": {},
   "outputs": [
    {
     "data": {
      "text/plain": [
       "array([[1, 1],\n",
       "       [2, 2],\n",
       "       [3, 3]])"
      ]
     },
     "execution_count": 20,
     "metadata": {},
     "output_type": "execute_result"
    }
   ],
   "source": [
    "a=np.array([1,2,3]).reshape(1,3)\n",
    "np.concatenate([a,a])\n",
    "\n",
    "b=a.reshape(3,1)\n",
    "b\n",
    "np.hstack([b,b])"
   ]
  },
  {
   "cell_type": "code",
   "execution_count": 22,
   "metadata": {},
   "outputs": [
    {
     "name": "stdout",
     "output_type": "stream",
     "text": [
      "[array([1]), array([1])]\n",
      "[array([2]), array([2])]\n",
      "[array([3]), array([3])]\n"
     ]
    }
   ],
   "source": [
    "zipped=zip(b,b)\n",
    "\n",
    "for i,j in zipped:\n",
    "    print([i,j])"
   ]
  },
  {
   "cell_type": "code",
   "execution_count": 23,
   "metadata": {},
   "outputs": [
    {
     "data": {
      "text/plain": [
       "numpy.ndarray"
      ]
     },
     "execution_count": 23,
     "metadata": {},
     "output_type": "execute_result"
    }
   ],
   "source": [
    "type(i)"
   ]
  },
  {
   "cell_type": "code",
   "execution_count": 24,
   "metadata": {},
   "outputs": [
    {
     "data": {
      "text/plain": [
       "array([3])"
      ]
     },
     "execution_count": 24,
     "metadata": {},
     "output_type": "execute_result"
    }
   ],
   "source": [
    "i"
   ]
  },
  {
   "cell_type": "code",
   "execution_count": 36,
   "metadata": {},
   "outputs": [
    {
     "data": {
      "text/plain": [
       "array([0., 2., 4., 6., 8.])"
      ]
     },
     "execution_count": 36,
     "metadata": {},
     "output_type": "execute_result"
    }
   ],
   "source": [
    "empty = np.empty(10)\n",
    "x=np.arange(5)\n",
    "np.multiply(x,2,out=empty[::2])"
   ]
  },
  {
   "cell_type": "code",
   "execution_count": 39,
   "metadata": {},
   "outputs": [
    {
     "data": {
      "text/plain": [
       "array([[0, 1, 2, 3, 4],\n",
       "       [1, 2, 3, 4, 5],\n",
       "       [2, 3, 4, 5, 6],\n",
       "       [3, 4, 5, 6, 7],\n",
       "       [4, 5, 6, 7, 8]])"
      ]
     },
     "execution_count": 39,
     "metadata": {},
     "output_type": "execute_result"
    }
   ],
   "source": [
    "np.add.outer(x,x)"
   ]
  },
  {
   "cell_type": "code",
   "execution_count": 42,
   "metadata": {},
   "outputs": [
    {
     "name": "stdout",
     "output_type": "stream",
     "text": [
      "[[1 2 3]\n",
      " [1 2 3]]\n"
     ]
    },
    {
     "data": {
      "text/plain": [
       "array([2, 4, 6])"
      ]
     },
     "execution_count": 42,
     "metadata": {},
     "output_type": "execute_result"
    }
   ],
   "source": [
    "aa=np.concatenate([a,a])\n",
    "print (aa)\n",
    "np.sum(aa,axis=0)"
   ]
  },
  {
   "cell_type": "code",
   "execution_count": 50,
   "metadata": {},
   "outputs": [
    {
     "data": {
      "text/plain": [
       "(1, 3)"
      ]
     },
     "execution_count": 50,
     "metadata": {},
     "output_type": "execute_result"
    }
   ],
   "source": [
    "a.shape"
   ]
  },
  {
   "cell_type": "code",
   "execution_count": 53,
   "metadata": {},
   "outputs": [
    {
     "data": {
      "text/plain": [
       "array([False, False, False, False, False, False, False, False, False,\n",
       "       False, False, False, False, False, False, False, False, False,\n",
       "       False, False, False, False, False, False, False, False, False,\n",
       "       False, False, False, False, False, False, False, False, False,\n",
       "       False, False, False, False, False, False, False, False, False,\n",
       "       False, False, False, False, False, False, False, False, False,\n",
       "       False, False, False, False, False, False, False, False, False,\n",
       "       False, False, False, False, False, False, False, False, False,\n",
       "       False, False, False, False, False, False, False, False, False,\n",
       "       False, False, False, False, False, False, False, False, False,\n",
       "       False, False, False, False, False, False, False, False, False,\n",
       "       False, False, False, False, False, False, False, False, False,\n",
       "       False, False, False, False, False, False, False, False, False,\n",
       "       False, False, False, False, False, False, False, False, False,\n",
       "       False, False, False, False, False, False, False, False, False,\n",
       "       False, False, False, False, False, False, False, False, False,\n",
       "       False, False, False, False, False, False, False, False, False,\n",
       "       False, False, False, False, False, False, False, False, False,\n",
       "       False, False, False, False, False, False, False, False, False,\n",
       "       False, False,  True,  True,  True,  True,  True,  True,  True,\n",
       "        True,  True,  True,  True,  True,  True,  True,  True,  True,\n",
       "        True,  True,  True,  True,  True,  True,  True,  True,  True,\n",
       "        True,  True,  True,  True,  True,  True,  True,  True,  True,\n",
       "        True,  True,  True,  True,  True,  True,  True,  True,  True,\n",
       "        True,  True,  True,  True,  True,  True,  True,  True,  True,\n",
       "        True,  True,  True,  True,  True,  True,  True,  True,  True,\n",
       "        True,  True,  True,  True,  True,  True,  True,  True,  True,\n",
       "        True,  True,  True,  True,  True,  True,  True,  True,  True,\n",
       "        True,  True,  True,  True,  True,  True,  True,  True,  True,\n",
       "        True,  True,  True,  True,  True,  True,  True,  True,  True,\n",
       "        True,  True,  True,  True,  True,  True,  True,  True,  True,\n",
       "        True,  True,  True,  True,  True,  True,  True,  True,  True,\n",
       "        True,  True,  True,  True,  True,  True,  True,  True,  True,\n",
       "        True,  True,  True,  True,  True,  True,  True,  True,  True,\n",
       "        True,  True,  True,  True,  True,  True,  True,  True,  True,\n",
       "        True,  True,  True,  True,  True,  True,  True,  True,  True,\n",
       "        True,  True,  True,  True,  True,  True,  True,  True,  True,\n",
       "        True,  True,  True,  True,  True,  True,  True,  True,  True,\n",
       "        True,  True,  True,  True,  True,  True,  True,  True,  True,\n",
       "        True,  True,  True,  True,  True,  True,  True,  True,  True,\n",
       "        True,  True,  True,  True,  True])"
      ]
     },
     "execution_count": 53,
     "metadata": {},
     "output_type": "execute_result"
    }
   ],
   "source": [
    "(np.arange(365)-172)>0"
   ]
  },
  {
   "cell_type": "code",
   "execution_count": 54,
   "metadata": {},
   "outputs": [
    {
     "data": {
      "text/plain": [
       "array([ True,  True,  True,  True,  True,  True,  True,  True,  True,\n",
       "        True,  True,  True,  True,  True,  True,  True,  True,  True,\n",
       "        True,  True,  True,  True,  True,  True,  True,  True,  True,\n",
       "        True,  True,  True,  True,  True,  True,  True,  True,  True,\n",
       "        True,  True,  True,  True,  True,  True,  True,  True,  True,\n",
       "        True,  True,  True,  True,  True,  True,  True,  True,  True,\n",
       "        True,  True,  True,  True,  True,  True,  True,  True,  True,\n",
       "        True,  True,  True,  True,  True,  True,  True,  True,  True,\n",
       "        True,  True,  True,  True,  True,  True,  True,  True,  True,\n",
       "        True,  True,  True,  True,  True,  True,  True,  True,  True,\n",
       "        True,  True,  True,  True,  True,  True,  True,  True,  True,\n",
       "        True,  True,  True,  True,  True,  True,  True,  True,  True,\n",
       "        True,  True,  True,  True,  True,  True,  True,  True,  True,\n",
       "        True,  True,  True,  True,  True,  True,  True,  True,  True,\n",
       "        True,  True,  True,  True,  True,  True,  True,  True,  True,\n",
       "        True,  True,  True,  True,  True,  True,  True,  True,  True,\n",
       "        True,  True,  True,  True,  True,  True,  True,  True,  True,\n",
       "        True,  True,  True,  True,  True,  True,  True,  True,  True,\n",
       "        True,  True,  True,  True,  True,  True,  True,  True,  True,\n",
       "        True,  True,  True,  True,  True,  True,  True,  True,  True,\n",
       "        True,  True,  True,  True,  True,  True,  True,  True,  True,\n",
       "        True,  True,  True,  True,  True,  True,  True,  True,  True,\n",
       "        True,  True,  True,  True,  True,  True,  True,  True,  True,\n",
       "        True,  True,  True,  True,  True,  True,  True,  True,  True,\n",
       "        True,  True,  True,  True,  True,  True,  True,  True,  True,\n",
       "        True,  True,  True,  True,  True,  True,  True,  True,  True,\n",
       "        True,  True,  True,  True,  True,  True,  True,  True,  True,\n",
       "        True,  True,  True,  True,  True,  True,  True,  True,  True,\n",
       "        True,  True,  True,  True,  True,  True,  True,  True,  True,\n",
       "        True, False, False, False, False, False, False, False, False,\n",
       "       False, False, False, False, False, False, False, False, False,\n",
       "       False, False, False, False, False, False, False, False, False,\n",
       "       False, False, False, False, False, False, False, False, False,\n",
       "       False, False, False, False, False, False, False, False, False,\n",
       "       False, False, False, False, False, False, False, False, False,\n",
       "       False, False, False, False, False, False, False, False, False,\n",
       "       False, False, False, False, False, False, False, False, False,\n",
       "       False, False, False, False, False, False, False, False, False,\n",
       "       False, False, False, False, False, False, False, False, False,\n",
       "       False, False, False, False, False, False, False, False, False,\n",
       "       False, False, False, False, False])"
      ]
     },
     "execution_count": 54,
     "metadata": {},
     "output_type": "execute_result"
    }
   ],
   "source": [
    "(np.arange(365)-172)<90"
   ]
  },
  {
   "cell_type": "code",
   "execution_count": 66,
   "metadata": {},
   "outputs": [
    {
     "name": "stdout",
     "output_type": "stream",
     "text": [
      "[[ 0  1  2  3  4  5  6  7  8  9]\n",
      " [10 11 12 13 14 15 16 17 18 19]\n",
      " [20 21 22 23 24 25 26 27 28 29]]\n"
     ]
    }
   ],
   "source": [
    "X=np.arange(30).reshape(3,10)\n",
    "print (X)"
   ]
  },
  {
   "cell_type": "code",
   "execution_count": 77,
   "metadata": {},
   "outputs": [
    {
     "data": {
      "text/plain": [
       "array([[[10, 11, 12, 13, 14, 15, 16, 17, 18, 19],\n",
       "        [20, 21, 22, 23, 24, 25, 26, 27, 28, 29]],\n",
       "\n",
       "       [[10, 11, 12, 13, 14, 15, 16, 17, 18, 19],\n",
       "        [20, 21, 22, 23, 24, 25, 26, 27, 28, 29]]])"
      ]
     },
     "execution_count": 77,
     "metadata": {},
     "output_type": "execute_result"
    }
   ],
   "source": [
    "ind=np.array([[1,2],[1,2]])\n",
    "X[ind]"
   ]
  },
  {
   "cell_type": "code",
   "execution_count": 78,
   "metadata": {},
   "outputs": [
    {
     "data": {
      "text/plain": [
       "array([11, 22])"
      ]
     },
     "execution_count": 78,
     "metadata": {},
     "output_type": "execute_result"
    }
   ],
   "source": [
    "X[[[1,2],[1,2]]]"
   ]
  },
  {
   "cell_type": "code",
   "execution_count": 95,
   "metadata": {},
   "outputs": [
    {
     "data": {
      "text/plain": [
       "array([[-0.40599258, -1.129809  ],\n",
       "       [-1.18122448, -1.20321251],\n",
       "       [ 0.30592984,  0.48515196],\n",
       "       [-1.75268695, -3.40069525],\n",
       "       [ 0.22610904,  1.13313826],\n",
       "       [ 0.60636918,  0.95980245],\n",
       "       [ 0.50863666, -0.84296209],\n",
       "       [ 1.8087944 ,  3.75820034],\n",
       "       [ 0.81547669,  2.30887376],\n",
       "       [ 1.37937009,  1.80142746],\n",
       "       [-1.26768205, -3.3048337 ],\n",
       "       [ 0.4828396 , -0.37645841],\n",
       "       [ 0.46049582,  1.231797  ],\n",
       "       [ 0.919606  ,  2.62677788],\n",
       "       [ 0.66654416,  1.29345291],\n",
       "       [-0.15293175,  1.63568156],\n",
       "       [ 0.41723826, -0.1375558 ],\n",
       "       [-0.29273577, -2.02815831],\n",
       "       [ 0.55696849, -0.77649078],\n",
       "       [ 1.15174837,  2.99364761]])"
      ]
     },
     "execution_count": 95,
     "metadata": {},
     "output_type": "execute_result"
    }
   ],
   "source": [
    "cov=[[1,2],\n",
    "    [2,5]]\n",
    "rand=np.random.RandomState(42)\n",
    "Y=rand.multivariate_normal([0,0],cov,20)\n",
    "Y"
   ]
  },
  {
   "cell_type": "code",
   "execution_count": 93,
   "metadata": {},
   "outputs": [
    {
     "data": {
      "text/plain": [
       "array([ 5,  6,  7,  8, 17,  4,  4,  4, 15, 12])"
      ]
     },
     "execution_count": 93,
     "metadata": {},
     "output_type": "execute_result"
    }
   ],
   "source": [
    "indices=np.random.choice(Y.shape[0],10)\n",
    "indices"
   ]
  },
  {
   "cell_type": "code",
   "execution_count": 96,
   "metadata": {},
   "outputs": [
    {
     "name": "stdout",
     "output_type": "stream",
     "text": [
      "[[-0.40599258 -1.129809  ]\n",
      " [-1.18122448 -1.20321251]\n",
      " [ 0.30592984  0.48515196]\n",
      " [-1.75268695 -3.40069525]\n",
      " [ 0.22610904  1.13313826]\n",
      " [ 0.60636918  0.95980245]\n",
      " [ 0.50863666 -0.84296209]\n",
      " [ 1.8087944   3.75820034]\n",
      " [ 0.81547669  2.30887376]\n",
      " [ 1.37937009  1.80142746]\n",
      " [-1.26768205 -3.3048337 ]\n",
      " [ 0.4828396  -0.37645841]\n",
      " [ 0.46049582  1.231797  ]\n",
      " [ 0.919606    2.62677788]\n",
      " [ 0.66654416  1.29345291]\n",
      " [-0.15293175  1.63568156]\n",
      " [ 0.41723826 -0.1375558 ]\n",
      " [-0.29273577 -2.02815831]\n",
      " [ 0.55696849 -0.77649078]\n",
      " [ 1.15174837  2.99364761]]\n"
     ]
    },
    {
     "data": {
      "text/plain": [
       "array([ 0.95980245, -0.84296209,  3.75820034,  2.30887376, -2.02815831,\n",
       "        1.13313826,  1.13313826,  1.13313826,  1.63568156,  1.231797  ])"
      ]
     },
     "execution_count": 96,
     "metadata": {},
     "output_type": "execute_result"
    }
   ],
   "source": [
    "print (Y)\n",
    "Y[indices,1]"
   ]
  },
  {
   "cell_type": "code",
   "execution_count": 97,
   "metadata": {},
   "outputs": [],
   "source": [
    "bins=np.linspace(-5,5,100)\n",
    "counts=np.zeros_like(bins)"
   ]
  },
  {
   "cell_type": "markdown",
   "metadata": {},
   "source": [
    "### K个最邻值"
   ]
  },
  {
   "cell_type": "code",
   "execution_count": 105,
   "metadata": {},
   "outputs": [
    {
     "data": {
      "text/plain": [
       "<matplotlib.collections.PathCollection at 0x1a1b7d4240>"
      ]
     },
     "execution_count": 105,
     "metadata": {},
     "output_type": "execute_result"
    },
    {
     "data": {
      "image/png": "[encoded data removed]",
      "text/plain": [
       "<matplotlib.figure.Figure at 0x1a1b77ddd8>"
      ]
     },
     "metadata": {},
     "output_type": "display_data"
    }
   ],
   "source": [
    "import matplotlib.pyplot as plt\n",
    "import seaborn as sns;sns.set()\n",
    "%matplotlib inline\n",
    "\n",
    "rand=np.random.RandomState(42)\n",
    "X=rand.randint(100,size=(10,2))\n",
    "\n",
    "plt.scatter(X[:,0],X[:,1],cmap='viridis')"
   ]
  },
  {
   "cell_type": "code",
   "execution_count": 109,
   "metadata": {},
   "outputs": [
    {
     "data": {
      "text/plain": [
       "array([[[  0,   0],\n",
       "        [ 37,  21],\n",
       "        [ -9,  72],\n",
       "        [-31,   6],\n",
       "        [-23,  18],\n",
       "        [-36,  -7],\n",
       "        [ 28,  90],\n",
       "        [ 30,  40],\n",
       "        [ 50,   5],\n",
       "        [ 22,  55]],\n",
       "\n",
       "       [[-37, -21],\n",
       "        [  0,   0],\n",
       "        [-46,  51],\n",
       "        [-68, -15],\n",
       "        [-60,  -3],\n",
       "        [-73, -28],\n",
       "        [ -9,  69],\n",
       "        [ -7,  19],\n",
       "        [ 13, -16],\n",
       "        [-15,  34]],\n",
       "\n",
       "       [[  9, -72],\n",
       "        [ 46, -51],\n",
       "        [  0,   0],\n",
       "        [-22, -66],\n",
       "        [-14, -54],\n",
       "        [-27, -79],\n",
       "        [ 37,  18],\n",
       "        [ 39, -32],\n",
       "        [ 59, -67],\n",
       "        [ 31, -17]],\n",
       "\n",
       "       [[ 31,  -6],\n",
       "        [ 68,  15],\n",
       "        [ 22,  66],\n",
       "        [  0,   0],\n",
       "        [  8,  12],\n",
       "        [ -5, -13],\n",
       "        [ 59,  84],\n",
       "        [ 61,  34],\n",
       "        [ 81,  -1],\n",
       "        [ 53,  49]],\n",
       "\n",
       "       [[ 23, -18],\n",
       "        [ 60,   3],\n",
       "        [ 14,  54],\n",
       "        [ -8, -12],\n",
       "        [  0,   0],\n",
       "        [-13, -25],\n",
       "        [ 51,  72],\n",
       "        [ 53,  22],\n",
       "        [ 73, -13],\n",
       "        [ 45,  37]],\n",
       "\n",
       "       [[ 36,   7],\n",
       "        [ 73,  28],\n",
       "        [ 27,  79],\n",
       "        [  5,  13],\n",
       "        [ 13,  25],\n",
       "        [  0,   0],\n",
       "        [ 64,  97],\n",
       "        [ 66,  47],\n",
       "        [ 86,  12],\n",
       "        [ 58,  62]],\n",
       "\n",
       "       [[-28, -90],\n",
       "        [  9, -69],\n",
       "        [-37, -18],\n",
       "        [-59, -84],\n",
       "        [-51, -72],\n",
       "        [-64, -97],\n",
       "        [  0,   0],\n",
       "        [  2, -50],\n",
       "        [ 22, -85],\n",
       "        [ -6, -35]],\n",
       "\n",
       "       [[-30, -40],\n",
       "        [  7, -19],\n",
       "        [-39,  32],\n",
       "        [-61, -34],\n",
       "        [-53, -22],\n",
       "        [-66, -47],\n",
       "        [ -2,  50],\n",
       "        [  0,   0],\n",
       "        [ 20, -35],\n",
       "        [ -8,  15]],\n",
       "\n",
       "       [[-50,  -5],\n",
       "        [-13,  16],\n",
       "        [-59,  67],\n",
       "        [-81,   1],\n",
       "        [-73,  13],\n",
       "        [-86, -12],\n",
       "        [-22,  85],\n",
       "        [-20,  35],\n",
       "        [  0,   0],\n",
       "        [-28,  50]],\n",
       "\n",
       "       [[-22, -55],\n",
       "        [ 15, -34],\n",
       "        [-31,  17],\n",
       "        [-53, -49],\n",
       "        [-45, -37],\n",
       "        [-58, -62],\n",
       "        [  6,  35],\n",
       "        [  8, -15],\n",
       "        [ 28, -50],\n",
       "        [  0,   0]]])"
      ]
     },
     "execution_count": 109,
     "metadata": {},
     "output_type": "execute_result"
    }
   ],
   "source": [
    " X[:,np.newaxis,:]-X[np.newaxis,:,:]"
   ]
  },
  {
   "cell_type": "code",
   "execution_count": 127,
   "metadata": {},
   "outputs": [
    {
     "data": {
      "text/plain": [
       "array([[[51, 92]],\n",
       "\n",
       "       [[14, 71]],\n",
       "\n",
       "       [[60, 20]],\n",
       "\n",
       "       [[82, 86]],\n",
       "\n",
       "       [[74, 74]],\n",
       "\n",
       "       [[87, 99]],\n",
       "\n",
       "       [[23,  2]],\n",
       "\n",
       "       [[21, 52]],\n",
       "\n",
       "       [[ 1, 87]],\n",
       "\n",
       "       [[29, 37]]])"
      ]
     },
     "execution_count": 127,
     "metadata": {},
     "output_type": "execute_result"
    }
   ],
   "source": [
    " X[:,np.newaxis]"
   ]
  },
  {
   "cell_type": "code",
   "execution_count": 112,
   "metadata": {},
   "outputs": [
    {
     "data": {
      "text/plain": [
       "array([[51, 92],\n",
       "       [14, 71],\n",
       "       [60, 20],\n",
       "       [82, 86],\n",
       "       [74, 74],\n",
       "       [87, 99],\n",
       "       [23,  2],\n",
       "       [21, 52],\n",
       "       [ 1, 87],\n",
       "       [29, 37]])"
      ]
     },
     "execution_count": 112,
     "metadata": {},
     "output_type": "execute_result"
    }
   ],
   "source": [
    "X"
   ]
  },
  {
   "cell_type": "code",
   "execution_count": 117,
   "metadata": {},
   "outputs": [
    {
     "name": "stdout",
     "output_type": "stream",
     "text": [
      "(1, 10, 2)\n"
     ]
    },
    {
     "data": {
      "text/plain": [
       "array([[[51, 92],\n",
       "        [14, 71],\n",
       "        [60, 20],\n",
       "        [82, 86],\n",
       "        [74, 74],\n",
       "        [87, 99],\n",
       "        [23,  2],\n",
       "        [21, 52],\n",
       "        [ 1, 87],\n",
       "        [29, 37]]])"
      ]
     },
     "execution_count": 117,
     "metadata": {},
     "output_type": "execute_result"
    }
   ],
   "source": [
    "print ((X[np.newaxis,:,:].shape))\n",
    "X[np.newaxis,:,:]"
   ]
  },
  {
   "cell_type": "code",
   "execution_count": 131,
   "metadata": {},
   "outputs": [
    {
     "data": {
      "text/plain": [
       "array([[[12,  9],\n",
       "        [14, 15],\n",
       "        [18, 15]],\n",
       "\n",
       "       [[ 5,  2],\n",
       "        [ 7,  8],\n",
       "        [11,  8]],\n",
       "\n",
       "       [[10,  8],\n",
       "        [12, 14],\n",
       "        [16, 14]]])"
      ]
     },
     "execution_count": 131,
     "metadata": {},
     "output_type": "execute_result"
    }
   ],
   "source": [
    "t=rand.randint(1,10,(1,3,2))\n",
    "t2=rand.randint(1,10,(3,1,2))\n",
    "t+t2"
   ]
  },
  {
   "cell_type": "code",
   "execution_count": 137,
   "metadata": {},
   "outputs": [
    {
     "data": {
      "text/plain": [
       "array([[21, 29, 33],\n",
       "       [ 7, 15, 19],\n",
       "       [18, 26, 30]])"
      ]
     },
     "execution_count": 137,
     "metadata": {},
     "output_type": "execute_result"
    }
   ],
   "source": [
    "np.sum(t+t2,axis=-1)"
   ]
  },
  {
   "cell_type": "code",
   "execution_count": 133,
   "metadata": {},
   "outputs": [
    {
     "data": {
      "text/plain": [
       "array([[[3, 1],\n",
       "        [5, 7],\n",
       "        [9, 7]]])"
      ]
     },
     "execution_count": 133,
     "metadata": {},
     "output_type": "execute_result"
    }
   ],
   "source": [
    "t"
   ]
  },
  {
   "cell_type": "code",
   "execution_count": 132,
   "metadata": {},
   "outputs": [
    {
     "data": {
      "text/plain": [
       "array([[[9, 8]],\n",
       "\n",
       "       [[2, 1]],\n",
       "\n",
       "       [[7, 7]]])"
      ]
     },
     "execution_count": 132,
     "metadata": {},
     "output_type": "execute_result"
    }
   ],
   "source": [
    "t2"
   ]
  },
  {
   "cell_type": "code",
   "execution_count": 136,
   "metadata": {},
   "outputs": [
    {
     "data": {
      "text/plain": [
       "1810"
      ]
     },
     "execution_count": 136,
     "metadata": {},
     "output_type": "execute_result"
    }
   ],
   "source": [
    "np.sum((np.array( [ 37,  21]))**2)"
   ]
  },
  {
   "cell_type": "code",
   "execution_count": 139,
   "metadata": {},
   "outputs": [
    {
     "data": {
      "text/plain": [
       "array([1, 2, 0])"
      ]
     },
     "execution_count": 139,
     "metadata": {},
     "output_type": "execute_result"
    }
   ],
   "source": [
    "x = np.array([3, 1, 2])\n",
    "np.argsort(x)"
   ]
  },
  {
   "cell_type": "code",
   "execution_count": 141,
   "metadata": {},
   "outputs": [
    {
     "data": {
      "text/plain": [
       "array([[    0,  1810,  5265,   997,   853,  1345,  8884,  2500,  2525,\n",
       "         3509],\n",
       "       [ 1810,     0,  4717,  4849,  3609,  6113,  4842,   410,   425,\n",
       "         1381],\n",
       "       [ 5265,  4717,     0,  4840,  3112,  6970,  1693,  2545,  7970,\n",
       "         1250],\n",
       "       [  997,  4849,  4840,     0,   208,   194, 10537,  4877,  6562,\n",
       "         5210],\n",
       "       [  853,  3609,  3112,   208,     0,   794,  7785,  3293,  5498,\n",
       "         3394],\n",
       "       [ 1345,  6113,  6970,   194,   794,     0, 13505,  6565,  7540,\n",
       "         7208],\n",
       "       [ 8884,  4842,  1693, 10537,  7785, 13505,     0,  2504,  7709,\n",
       "         1261],\n",
       "       [ 2500,   410,  2545,  4877,  3293,  6565,  2504,     0,  1625,\n",
       "          289],\n",
       "       [ 2525,   425,  7970,  6562,  5498,  7540,  7709,  1625,     0,\n",
       "         3284],\n",
       "       [ 3509,  1381,  1250,  5210,  3394,  7208,  1261,   289,  3284,\n",
       "            0]])"
      ]
     },
     "execution_count": 141,
     "metadata": {},
     "output_type": "execute_result"
    }
   ],
   "source": [
    "np.sum((X[:,np.newaxis]-X[np.newaxis,:])**2,axis=-1)"
   ]
  },
  {
   "cell_type": "code",
   "execution_count": 142,
   "metadata": {},
   "outputs": [
    {
     "data": {
      "text/plain": [
       "array([[0, 4, 3, 5, 1, 7, 8, 9, 2, 6],\n",
       "       [1, 7, 8, 9, 0, 4, 2, 6, 3, 5],\n",
       "       [2, 9, 6, 7, 4, 1, 3, 0, 5, 8],\n",
       "       [3, 5, 4, 0, 2, 1, 7, 9, 8, 6],\n",
       "       [4, 3, 5, 0, 2, 7, 9, 1, 8, 6],\n",
       "       [5, 3, 4, 0, 1, 7, 2, 9, 8, 6],\n",
       "       [6, 9, 2, 7, 1, 8, 4, 0, 3, 5],\n",
       "       [7, 9, 1, 8, 0, 6, 2, 4, 3, 5],\n",
       "       [8, 1, 7, 0, 9, 4, 3, 5, 6, 2],\n",
       "       [9, 7, 2, 6, 1, 8, 4, 0, 3, 5]])"
      ]
     },
     "execution_count": 142,
     "metadata": {},
     "output_type": "execute_result"
    }
   ],
   "source": [
    "np.argsort(np.sum((X[:,np.newaxis]-X[np.newaxis,:])**2,axis=-1)) #这里竖着的是，每行0的索引"
   ]
  },
  {
   "cell_type": "code",
   "execution_count": 155,
   "metadata": {},
   "outputs": [
    {
     "data": {
      "text/plain": [
       "array([[0, 4, 3, 5, 1, 7, 8, 9, 6, 2],\n",
       "       [1, 7, 8, 9, 0, 5, 6, 3, 2, 4],\n",
       "       [2, 9, 6, 7, 4, 5, 1, 3, 8, 0],\n",
       "       [3, 4, 5, 0, 1, 2, 6, 7, 8, 9],\n",
       "       [3, 4, 5, 0, 1, 2, 6, 7, 8, 9],\n",
       "       [3, 4, 5, 0, 1, 2, 6, 7, 8, 9],\n",
       "       [9, 6, 2, 7, 1, 8, 4, 5, 3, 0],\n",
       "       [7, 9, 1, 8, 0, 5, 6, 3, 2, 4],\n",
       "       [8, 1, 7, 0, 9, 5, 6, 3, 2, 4],\n",
       "       [9, 7, 2, 6, 1, 8, 4, 5, 3, 0]])"
      ]
     },
     "execution_count": 155,
     "metadata": {},
     "output_type": "execute_result"
    }
   ],
   "source": [
    "k=np.argpartition(np.sum((X[:,np.newaxis]-X[np.newaxis,:])**2,axis=-1),3)\n",
    "k"
   ]
  },
  {
   "cell_type": "code",
   "execution_count": 160,
   "metadata": {},
   "outputs": [
    {
     "name": "stdout",
     "output_type": "stream",
     "text": [
      "0 0\n",
      "(51, 51) (92, 92)\n",
      "0 4\n",
      "(74, 51) (74, 92)\n",
      "0 3\n",
      "(82, 51) (86, 92)\n",
      "1 1\n",
      "(14, 14) (71, 71)\n",
      "1 7\n",
      "(21, 14) (52, 71)\n",
      "1 8\n",
      "(1, 14) (87, 71)\n",
      "2 2\n",
      "(60, 60) (20, 20)\n",
      "2 9\n",
      "(29, 60) (37, 20)\n",
      "2 6\n",
      "(23, 60) (2, 20)\n",
      "3 3\n",
      "(82, 82) (86, 86)\n",
      "3 4\n",
      "(74, 82) (74, 86)\n",
      "3 5\n",
      "(87, 82) (99, 86)\n",
      "4 3\n",
      "(82, 74) (86, 74)\n",
      "4 4\n",
      "(74, 74) (74, 74)\n",
      "4 5\n",
      "(87, 74) (99, 74)\n",
      "5 3\n",
      "(82, 87) (86, 99)\n",
      "5 4\n",
      "(74, 87) (74, 99)\n",
      "5 5\n",
      "(87, 87) (99, 99)\n",
      "6 9\n",
      "(29, 23) (37, 2)\n",
      "6 6\n",
      "(23, 23) (2, 2)\n",
      "6 2\n",
      "(60, 23) (20, 2)\n",
      "7 7\n",
      "(21, 21) (52, 52)\n",
      "7 9\n",
      "(29, 21) (37, 52)\n",
      "7 1\n",
      "(14, 21) (71, 52)\n",
      "8 8\n",
      "(1, 1) (87, 87)\n",
      "8 1\n",
      "(14, 1) (71, 87)\n",
      "8 7\n",
      "(21, 1) (52, 87)\n",
      "9 9\n",
      "(29, 29) (37, 37)\n",
      "9 7\n",
      "(21, 29) (52, 37)\n",
      "9 2\n",
      "(60, 29) (20, 37)\n"
     ]
    },
    {
     "data": {
      "image/png": "[encoded data removed]",
      "text/plain": [
       "<matplotlib.figure.Figure at 0x1a1cd6fb70>"
      ]
     },
     "metadata": {},
     "output_type": "display_data"
    }
   ],
   "source": [
    "plt.scatter(X[:,0],X[:,1])\n",
    "for i in range(X.shape[0]):\n",
    "    for j in k[i,:3]:\n",
    "        plt.plot(*zip(X[j],X[i]))\n",
    "        print (i,j)\n",
    "        print(*zip(X[j],X[i]))\n",
    "#https://www.cnblogs.com/waltsmith/p/8029539.html"
   ]
  },
  {
   "cell_type": "code",
   "execution_count": 156,
   "metadata": {},
   "outputs": [
    {
     "data": {
      "text/plain": [
       "array([0, 4, 3, 5, 1, 7, 8, 9, 6, 2])"
      ]
     },
     "execution_count": 156,
     "metadata": {},
     "output_type": "execute_result"
    }
   ],
   "source": [
    "np.array([0, 4, 3, 5, 1, 7, 8, 9, 6, 2])"
   ]
  },
  {
   "cell_type": "code",
   "execution_count": 157,
   "metadata": {},
   "outputs": [
    {
     "data": {
      "text/plain": [
       "array([4, 3])"
      ]
     },
     "execution_count": 157,
     "metadata": {},
     "output_type": "execute_result"
    }
   ],
   "source": [
    "np.array([0, 4, 3, 5, 1, 7, 8, 9, 6, 2])[1:3]"
   ]
  },
  {
   "cell_type": "code",
   "execution_count": null,
   "metadata": {},
   "outputs": [],
   "source": []
  }
 ],
 "metadata": {
  "kernelspec": {
   "display_name": "Python 3",
   "language": "python",
   "name": "python3"
  },
  "language_info": {
   "codemirror_mode": {
    "name": "ipython",
    "version": 3
   },
   "file_extension": ".py",
   "mimetype": "text/x-python",
   "name": "python",
   "nbconvert_exporter": "python",
   "pygments_lexer": "ipython3",
   "version": "3.6.4"
  }
 },
 "nbformat": 4,
 "nbformat_minor": 2
}
